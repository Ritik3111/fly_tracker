{
 "cells": [
  {
   "cell_type": "code",
   "execution_count": 8,
   "metadata": {},
   "outputs": [],
   "source": [
    "from selenium import webdriver\n",
    "from selenium.webdriver.chrome.options import Options\n",
    "from selenium.webdriver.chrome.service import Service\n",
    "from selenium.webdriver.common.by import By\n",
    "from selenium.webdriver.common.keys import Keys\n",
    "import re"
   ]
  },
  {
   "attachments": {},
   "cell_type": "markdown",
   "metadata": {},
   "source": [
    "### Open the chrome browser"
   ]
  },
  {
   "cell_type": "code",
   "execution_count": 12,
   "metadata": {},
   "outputs": [],
   "source": [
    "options = Options()\n",
    "options.add_argument('--window-size=1920,1200')\n",
    "\n",
    "#options.add_argument(\"--headless\")\n",
    "service = Service(executable_path='chromedriver_mac64')\n",
    "\n",
    "driver = webdriver.Chrome(service=service,options=options)"
   ]
  },
  {
   "attachments": {},
   "cell_type": "markdown",
   "metadata": {},
   "source": [
    "### Go to the Google Flights Website"
   ]
  },
  {
   "cell_type": "code",
   "execution_count": 13,
   "metadata": {},
   "outputs": [],
   "source": [
    "driver.get('https://www.google.com/travel/flights/non-stop-flights-from-new-york-to-boston.html')"
   ]
  },
  {
   "attachments": {},
   "cell_type": "markdown",
   "metadata": {},
   "source": [
    "### Change Trip Type to One Way"
   ]
  },
  {
   "cell_type": "code",
   "execution_count": 14,
   "metadata": {},
   "outputs": [],
   "source": [
    "driver.find_element(By.XPATH,'//*[@class=\"dvO2xc k0gFV\"]').click()\n",
    "tt = driver.find_element(By.XPATH,'//*[@class=\"A8nfpe yRXJAe iWO5td\"]')\n",
    "tt.find_element(By.XPATH,'//*[@class=\"Akxp3 Lxea9c\"]').find_element(By.XPATH,'//*[@class=\"uT1UOd\"]').click()"
   ]
  },
  {
   "cell_type": "code",
   "execution_count": 451,
   "metadata": {},
   "outputs": [
    {
     "ename": "NoSuchElementException",
     "evalue": "Message: no such element: Unable to locate element: {\"method\":\"xpath\",\"selector\":\"//*[@class=\"I0Kcef\"]\"}\n  (Session info: chrome=111.0.5563.110)\nStacktrace:\n0   chromedriver                        0x000000010d1e3428 chromedriver + 4899880\n1   chromedriver                        0x000000010d160a23 chromedriver + 4364835\n2   chromedriver                        0x000000010cdaabf6 chromedriver + 474102\n3   chromedriver                        0x000000010cdee4f0 chromedriver + 750832\n4   chromedriver                        0x000000010cdee751 chromedriver + 751441\n5   chromedriver                        0x000000010ce32834 chromedriver + 1030196\n6   chromedriver                        0x000000010ce1458d chromedriver + 906637\n7   chromedriver                        0x000000010ce2fb5b chromedriver + 1018715\n8   chromedriver                        0x000000010ce14333 chromedriver + 906035\n9   chromedriver                        0x000000010cdde55f chromedriver + 685407\n10  chromedriver                        0x000000010cddfa7e chromedriver + 690814\n11  chromedriver                        0x000000010d1b079e chromedriver + 4691870\n12  chromedriver                        0x000000010d1b5961 chromedriver + 4712801\n13  chromedriver                        0x000000010d1bc2ff chromedriver + 4739839\n14  chromedriver                        0x000000010d1b685a chromedriver + 4716634\n15  chromedriver                        0x000000010d188fce chromedriver + 4530126\n16  chromedriver                        0x000000010d1d65c8 chromedriver + 4847048\n17  chromedriver                        0x000000010d1d6747 chromedriver + 4847431\n18  chromedriver                        0x000000010d1eb87f chromedriver + 4933759\n19  libsystem_pthread.dylib             0x00007ff804deb4e1 _pthread_start + 125\n20  libsystem_pthread.dylib             0x00007ff804de6f6b thread_start + 15\n",
     "output_type": "error",
     "traceback": [
      "\u001b[0;31m---------------------------------------------------------------------------\u001b[0m",
      "\u001b[0;31mNoSuchElementException\u001b[0m                    Traceback (most recent call last)",
      "\u001b[0;32m<ipython-input-451-bc177bdc0592>\u001b[0m in \u001b[0;36m<module>\u001b[0;34m\u001b[0m\n\u001b[0;32m----> 1\u001b[0;31m \u001b[0mdriver\u001b[0m\u001b[0;34m.\u001b[0m\u001b[0mfind_element\u001b[0m\u001b[0;34m(\u001b[0m\u001b[0mBy\u001b[0m\u001b[0;34m.\u001b[0m\u001b[0mXPATH\u001b[0m\u001b[0;34m,\u001b[0m\u001b[0;34m'//*[@class=\"I0Kcef\"]'\u001b[0m\u001b[0;34m)\u001b[0m\u001b[0;34m.\u001b[0m\u001b[0mclick\u001b[0m\u001b[0;34m(\u001b[0m\u001b[0;34m)\u001b[0m\u001b[0;34m\u001b[0m\u001b[0;34m\u001b[0m\u001b[0m\n\u001b[0m",
      "\u001b[0;32m~/opt/anaconda3/lib/python3.8/site-packages/selenium/webdriver/remote/webdriver.py\u001b[0m in \u001b[0;36mfind_element\u001b[0;34m(self, by, value)\u001b[0m\n\u001b[1;32m    829\u001b[0m             \u001b[0mvalue\u001b[0m \u001b[0;34m=\u001b[0m \u001b[0;34mf'[name=\"{value}\"]'\u001b[0m\u001b[0;34m\u001b[0m\u001b[0;34m\u001b[0m\u001b[0m\n\u001b[1;32m    830\u001b[0m \u001b[0;34m\u001b[0m\u001b[0m\n\u001b[0;32m--> 831\u001b[0;31m         \u001b[0;32mreturn\u001b[0m \u001b[0mself\u001b[0m\u001b[0;34m.\u001b[0m\u001b[0mexecute\u001b[0m\u001b[0;34m(\u001b[0m\u001b[0mCommand\u001b[0m\u001b[0;34m.\u001b[0m\u001b[0mFIND_ELEMENT\u001b[0m\u001b[0;34m,\u001b[0m \u001b[0;34m{\u001b[0m\u001b[0;34m\"using\"\u001b[0m\u001b[0;34m:\u001b[0m \u001b[0mby\u001b[0m\u001b[0;34m,\u001b[0m \u001b[0;34m\"value\"\u001b[0m\u001b[0;34m:\u001b[0m \u001b[0mvalue\u001b[0m\u001b[0;34m}\u001b[0m\u001b[0;34m)\u001b[0m\u001b[0;34m[\u001b[0m\u001b[0;34m\"value\"\u001b[0m\u001b[0;34m]\u001b[0m\u001b[0;34m\u001b[0m\u001b[0;34m\u001b[0m\u001b[0m\n\u001b[0m\u001b[1;32m    832\u001b[0m \u001b[0;34m\u001b[0m\u001b[0m\n\u001b[1;32m    833\u001b[0m     \u001b[0;32mdef\u001b[0m \u001b[0mfind_elements\u001b[0m\u001b[0;34m(\u001b[0m\u001b[0mself\u001b[0m\u001b[0;34m,\u001b[0m \u001b[0mby\u001b[0m\u001b[0;34m=\u001b[0m\u001b[0mBy\u001b[0m\u001b[0;34m.\u001b[0m\u001b[0mID\u001b[0m\u001b[0;34m,\u001b[0m \u001b[0mvalue\u001b[0m\u001b[0;34m:\u001b[0m \u001b[0mOptional\u001b[0m\u001b[0;34m[\u001b[0m\u001b[0mstr\u001b[0m\u001b[0;34m]\u001b[0m \u001b[0;34m=\u001b[0m \u001b[0;32mNone\u001b[0m\u001b[0;34m)\u001b[0m \u001b[0;34m->\u001b[0m \u001b[0mList\u001b[0m\u001b[0;34m[\u001b[0m\u001b[0mWebElement\u001b[0m\u001b[0;34m]\u001b[0m\u001b[0;34m:\u001b[0m\u001b[0;34m\u001b[0m\u001b[0;34m\u001b[0m\u001b[0m\n",
      "\u001b[0;32m~/opt/anaconda3/lib/python3.8/site-packages/selenium/webdriver/remote/webdriver.py\u001b[0m in \u001b[0;36mexecute\u001b[0;34m(self, driver_command, params)\u001b[0m\n\u001b[1;32m    438\u001b[0m         \u001b[0mresponse\u001b[0m \u001b[0;34m=\u001b[0m \u001b[0mself\u001b[0m\u001b[0;34m.\u001b[0m\u001b[0mcommand_executor\u001b[0m\u001b[0;34m.\u001b[0m\u001b[0mexecute\u001b[0m\u001b[0;34m(\u001b[0m\u001b[0mdriver_command\u001b[0m\u001b[0;34m,\u001b[0m \u001b[0mparams\u001b[0m\u001b[0;34m)\u001b[0m\u001b[0;34m\u001b[0m\u001b[0;34m\u001b[0m\u001b[0m\n\u001b[1;32m    439\u001b[0m         \u001b[0;32mif\u001b[0m \u001b[0mresponse\u001b[0m\u001b[0;34m:\u001b[0m\u001b[0;34m\u001b[0m\u001b[0;34m\u001b[0m\u001b[0m\n\u001b[0;32m--> 440\u001b[0;31m             \u001b[0mself\u001b[0m\u001b[0;34m.\u001b[0m\u001b[0merror_handler\u001b[0m\u001b[0;34m.\u001b[0m\u001b[0mcheck_response\u001b[0m\u001b[0;34m(\u001b[0m\u001b[0mresponse\u001b[0m\u001b[0;34m)\u001b[0m\u001b[0;34m\u001b[0m\u001b[0;34m\u001b[0m\u001b[0m\n\u001b[0m\u001b[1;32m    441\u001b[0m             \u001b[0mresponse\u001b[0m\u001b[0;34m[\u001b[0m\u001b[0;34m\"value\"\u001b[0m\u001b[0;34m]\u001b[0m \u001b[0;34m=\u001b[0m \u001b[0mself\u001b[0m\u001b[0;34m.\u001b[0m\u001b[0m_unwrap_value\u001b[0m\u001b[0;34m(\u001b[0m\u001b[0mresponse\u001b[0m\u001b[0;34m.\u001b[0m\u001b[0mget\u001b[0m\u001b[0;34m(\u001b[0m\u001b[0;34m\"value\"\u001b[0m\u001b[0;34m,\u001b[0m \u001b[0;32mNone\u001b[0m\u001b[0;34m)\u001b[0m\u001b[0;34m)\u001b[0m\u001b[0;34m\u001b[0m\u001b[0;34m\u001b[0m\u001b[0m\n\u001b[1;32m    442\u001b[0m             \u001b[0;32mreturn\u001b[0m \u001b[0mresponse\u001b[0m\u001b[0;34m\u001b[0m\u001b[0;34m\u001b[0m\u001b[0m\n",
      "\u001b[0;32m~/opt/anaconda3/lib/python3.8/site-packages/selenium/webdriver/remote/errorhandler.py\u001b[0m in \u001b[0;36mcheck_response\u001b[0;34m(self, response)\u001b[0m\n\u001b[1;32m    243\u001b[0m                 \u001b[0malert_text\u001b[0m \u001b[0;34m=\u001b[0m \u001b[0mvalue\u001b[0m\u001b[0;34m[\u001b[0m\u001b[0;34m\"alert\"\u001b[0m\u001b[0;34m]\u001b[0m\u001b[0;34m.\u001b[0m\u001b[0mget\u001b[0m\u001b[0;34m(\u001b[0m\u001b[0;34m\"text\"\u001b[0m\u001b[0;34m)\u001b[0m\u001b[0;34m\u001b[0m\u001b[0;34m\u001b[0m\u001b[0m\n\u001b[1;32m    244\u001b[0m             \u001b[0;32mraise\u001b[0m \u001b[0mexception_class\u001b[0m\u001b[0;34m(\u001b[0m\u001b[0mmessage\u001b[0m\u001b[0;34m,\u001b[0m \u001b[0mscreen\u001b[0m\u001b[0;34m,\u001b[0m \u001b[0mstacktrace\u001b[0m\u001b[0;34m,\u001b[0m \u001b[0malert_text\u001b[0m\u001b[0;34m)\u001b[0m  \u001b[0;31m# type: ignore[call-arg]  # mypy is not smart enough here\u001b[0m\u001b[0;34m\u001b[0m\u001b[0;34m\u001b[0m\u001b[0m\n\u001b[0;32m--> 245\u001b[0;31m         \u001b[0;32mraise\u001b[0m \u001b[0mexception_class\u001b[0m\u001b[0;34m(\u001b[0m\u001b[0mmessage\u001b[0m\u001b[0;34m,\u001b[0m \u001b[0mscreen\u001b[0m\u001b[0;34m,\u001b[0m \u001b[0mstacktrace\u001b[0m\u001b[0;34m)\u001b[0m\u001b[0;34m\u001b[0m\u001b[0;34m\u001b[0m\u001b[0m\n\u001b[0m",
      "\u001b[0;31mNoSuchElementException\u001b[0m: Message: no such element: Unable to locate element: {\"method\":\"xpath\",\"selector\":\"//*[@class=\"I0Kcef\"]\"}\n  (Session info: chrome=111.0.5563.110)\nStacktrace:\n0   chromedriver                        0x000000010d1e3428 chromedriver + 4899880\n1   chromedriver                        0x000000010d160a23 chromedriver + 4364835\n2   chromedriver                        0x000000010cdaabf6 chromedriver + 474102\n3   chromedriver                        0x000000010cdee4f0 chromedriver + 750832\n4   chromedriver                        0x000000010cdee751 chromedriver + 751441\n5   chromedriver                        0x000000010ce32834 chromedriver + 1030196\n6   chromedriver                        0x000000010ce1458d chromedriver + 906637\n7   chromedriver                        0x000000010ce2fb5b chromedriver + 1018715\n8   chromedriver                        0x000000010ce14333 chromedriver + 906035\n9   chromedriver                        0x000000010cdde55f chromedriver + 685407\n10  chromedriver                        0x000000010cddfa7e chromedriver + 690814\n11  chromedriver                        0x000000010d1b079e chromedriver + 4691870\n12  chromedriver                        0x000000010d1b5961 chromedriver + 4712801\n13  chromedriver                        0x000000010d1bc2ff chromedriver + 4739839\n14  chromedriver                        0x000000010d1b685a chromedriver + 4716634\n15  chromedriver                        0x000000010d188fce chromedriver + 4530126\n16  chromedriver                        0x000000010d1d65c8 chromedriver + 4847048\n17  chromedriver                        0x000000010d1d6747 chromedriver + 4847431\n18  chromedriver                        0x000000010d1eb87f chromedriver + 4933759\n19  libsystem_pthread.dylib             0x00007ff804deb4e1 _pthread_start + 125\n20  libsystem_pthread.dylib             0x00007ff804de6f6b thread_start + 15\n"
     ]
    }
   ],
   "source": [
    "driver.find_element(By.XPATH,'//*[@class=\"I0Kcef\"]').click()"
   ]
  },
  {
   "cell_type": "code",
   "execution_count": 460,
   "metadata": {},
   "outputs": [],
   "source": [
    "driver.find_element(By.XPATH,'//*[@class=\"vDyvKd\"]').click()"
   ]
  },
  {
   "cell_type": "code",
   "execution_count": 461,
   "metadata": {},
   "outputs": [],
   "source": [
    "sort_by = driver.find_element(By.XPATH,'//*[@class=\"VfPpkd-StrnGf-rymPhb DMZ54e\"]')\n",
    "#.find_element(By.CSS_SELECTOR,'[role=\"menuitemradio\"][data-value=\"2\"]').click()\n",
    "#.find_element(By.XPATH,'//*[@class=\"VfPpkd-StrnGf-rymPhb-ibnC6b\"]')VfPpkd-StrnGf-rymPhb DMZ54e"
   ]
  },
  {
   "cell_type": "code",
   "execution_count": 462,
   "metadata": {},
   "outputs": [
    {
     "data": {
      "text/plain": [
       "<selenium.webdriver.remote.webelement.WebElement (session=\"60d106e9886ff606f7a888a3983bbd69\", element=\"99153ec6-050f-40cf-b9a2-b1e049ee7f9f\")>"
      ]
     },
     "execution_count": 462,
     "metadata": {},
     "output_type": "execute_result"
    }
   ],
   "source": [
    "driver.find_element(By.XPATH,'//*[@class=\"RKk3r eoY5cb j0Ppje\"]')"
   ]
  },
  {
   "cell_type": "code",
   "execution_count": 15,
   "metadata": {},
   "outputs": [],
   "source": [
    "date = driver.find_element(By.XPATH,'//*[@class=\"RKk3r eoY5cb j0Ppje\"]')\n",
    "date.clear()\n",
    "date.send_keys('May 15')\n"
   ]
  },
  {
   "cell_type": "code",
   "execution_count": 16,
   "metadata": {},
   "outputs": [],
   "source": [
    "date.send_keys(Keys.ENTER)"
   ]
  },
  {
   "cell_type": "code",
   "execution_count": 473,
   "metadata": {},
   "outputs": [],
   "source": [
    "driver.refresh()"
   ]
  },
  {
   "cell_type": "code",
   "execution_count": 19,
   "metadata": {},
   "outputs": [],
   "source": [
    "with open(\"test_source_page.html\", \"w\", encoding='utf-8') as f:\n",
    "    f.write(driver.page_source)"
   ]
  },
  {
   "cell_type": "code",
   "execution_count": 477,
   "metadata": {},
   "outputs": [],
   "source": [
    "from bs4 import BeautifulSoup"
   ]
  },
  {
   "cell_type": "code",
   "execution_count": 478,
   "metadata": {},
   "outputs": [],
   "source": [
    "soup = BeautifulSoup(driver.page_source)"
   ]
  },
  {
   "cell_type": "code",
   "execution_count": 482,
   "metadata": {},
   "outputs": [],
   "source": [
    "flights = soup.find_all(class_='pIav2d')"
   ]
  },
  {
   "cell_type": "code",
   "execution_count": 546,
   "metadata": {},
   "outputs": [],
   "source": [
    "data = []"
   ]
  },
  {
   "cell_type": "code",
   "execution_count": 550,
   "metadata": {},
   "outputs": [],
   "source": [
    "for flight in flights:\n",
    "    dep_time = flight.find(class_='wtdjmc YMlIz ogfYpf tPgKwe').text\n",
    "    dep_city = flight.find(class_='G2WY5c sSHqwe ogfYpf tPgKwe').text\n",
    "    arr_time = flight.find(class_='XWcVob YMlIz ogfYpf tPgKwe').text\n",
    "    arr_city = flight.find(class_='c8rWCd sSHqwe ogfYpf tPgKwe').text\n",
    "    price = flight.find(class_=re.compile('YMlIz FpEdX')).text\n",
    "    #airline = \n",
    "    airline = flight.find(class_='h1fkLb').span.text\n",
    "    timestamp = datetime.datetime.now()\n",
    "    info = {\n",
    "        \"Source\": dep_city,\n",
    "        \"Departure Time\": dep_time,\n",
    "        \"Destination\": arr_city,\n",
    "        \"Arrival Time\": arr_time,\n",
    "        \"Price\": price,\n",
    "        \"Airline\": airline,\n",
    "        \"Timestamp\": timestamp\n",
    "    }\n",
    "    \n",
    "    data.append(info)\n",
    "\n",
    "    "
   ]
  },
  {
   "cell_type": "code",
   "execution_count": 7,
   "metadata": {},
   "outputs": [
    {
     "ename": "NameError",
     "evalue": "name 'out_file' is not defined",
     "output_type": "error",
     "traceback": [
      "\u001b[0;31m---------------------------------------------------------------------------\u001b[0m",
      "\u001b[0;31mNameError\u001b[0m                                 Traceback (most recent call last)",
      "\u001b[0;32m<ipython-input-7-902f8e8884a8>\u001b[0m in \u001b[0;36m<module>\u001b[0;34m\u001b[0m\n\u001b[1;32m      1\u001b[0m \u001b[0;32mimport\u001b[0m \u001b[0mjson\u001b[0m\u001b[0;34m\u001b[0m\u001b[0;34m\u001b[0m\u001b[0m\n\u001b[1;32m      2\u001b[0m \u001b[0;32mwith\u001b[0m \u001b[0mopen\u001b[0m\u001b[0;34m(\u001b[0m\u001b[0;34m'testing/test_data.json'\u001b[0m\u001b[0;34m)\u001b[0m \u001b[0;32mas\u001b[0m \u001b[0moutfile\u001b[0m\u001b[0;34m:\u001b[0m\u001b[0;34m\u001b[0m\u001b[0;34m\u001b[0m\u001b[0m\n\u001b[0;32m----> 3\u001b[0;31m     \u001b[0mdata\u001b[0m \u001b[0;34m=\u001b[0m \u001b[0mjson\u001b[0m\u001b[0;34m.\u001b[0m\u001b[0mload\u001b[0m\u001b[0;34m(\u001b[0m\u001b[0mout_file\u001b[0m\u001b[0;34m)\u001b[0m\u001b[0;34m\u001b[0m\u001b[0;34m\u001b[0m\u001b[0m\n\u001b[0m",
      "\u001b[0;31mNameError\u001b[0m: name 'out_file' is not defined"
     ]
    }
   ],
   "source": [
    "import json\n",
    "with open('testing/test_data.json') as outfile:\n",
    "    data = json.load(out_file)"
   ]
  },
  {
   "cell_type": "code",
   "execution_count": 541,
   "metadata": {},
   "outputs": [],
   "source": [
    "import pandas as pd\n",
    "import datetime"
   ]
  },
  {
   "cell_type": "code",
   "execution_count": 548,
   "metadata": {},
   "outputs": [],
   "source": [
    "df = pd.DataFrame(data)"
   ]
  },
  {
   "cell_type": "code",
   "execution_count": 549,
   "metadata": {},
   "outputs": [
    {
     "data": {
      "text/html": [
       "<div>\n",
       "<style scoped>\n",
       "    .dataframe tbody tr th:only-of-type {\n",
       "        vertical-align: middle;\n",
       "    }\n",
       "\n",
       "    .dataframe tbody tr th {\n",
       "        vertical-align: top;\n",
       "    }\n",
       "\n",
       "    .dataframe thead th {\n",
       "        text-align: right;\n",
       "    }\n",
       "</style>\n",
       "<table border=\"1\" class=\"dataframe\">\n",
       "  <thead>\n",
       "    <tr style=\"text-align: right;\">\n",
       "      <th></th>\n",
       "      <th>Source</th>\n",
       "      <th>Departure Time</th>\n",
       "      <th>Destination</th>\n",
       "      <th>Arrival Time</th>\n",
       "      <th>Price</th>\n",
       "      <th>Airline</th>\n",
       "      <th>Timestamp</th>\n",
       "    </tr>\n",
       "  </thead>\n",
       "  <tbody>\n",
       "    <tr>\n",
       "      <th>0</th>\n",
       "      <td>LGA</td>\n",
       "      <td>10:15 AM</td>\n",
       "      <td>BOS</td>\n",
       "      <td>11:32 AM</td>\n",
       "      <td>$94</td>\n",
       "      <td>JetBlue</td>\n",
       "      <td>2023-03-27 02:02:52.904271</td>\n",
       "    </tr>\n",
       "    <tr>\n",
       "      <th>1</th>\n",
       "      <td>LGA</td>\n",
       "      <td>12:00 PM</td>\n",
       "      <td>BOS</td>\n",
       "      <td>1:25 PM</td>\n",
       "      <td>$94</td>\n",
       "      <td>Delta</td>\n",
       "      <td>2023-03-27 02:02:52.908389</td>\n",
       "    </tr>\n",
       "    <tr>\n",
       "      <th>2</th>\n",
       "      <td>EWR</td>\n",
       "      <td>4:59 PM</td>\n",
       "      <td>BOS</td>\n",
       "      <td>6:21 PM</td>\n",
       "      <td>$94</td>\n",
       "      <td>United</td>\n",
       "      <td>2023-03-27 02:02:52.913373</td>\n",
       "    </tr>\n",
       "    <tr>\n",
       "      <th>3</th>\n",
       "      <td>JFK</td>\n",
       "      <td>9:09 AM</td>\n",
       "      <td>BOS</td>\n",
       "      <td>10:43 AM</td>\n",
       "      <td>$104</td>\n",
       "      <td>American</td>\n",
       "      <td>2023-03-27 02:02:52.917187</td>\n",
       "    </tr>\n",
       "    <tr>\n",
       "      <th>4</th>\n",
       "      <td>EWR</td>\n",
       "      <td>6:00 AM</td>\n",
       "      <td>BOS</td>\n",
       "      <td>7:12 AM</td>\n",
       "      <td>$94</td>\n",
       "      <td>JetBlue</td>\n",
       "      <td>2023-03-27 02:02:52.921508</td>\n",
       "    </tr>\n",
       "    <tr>\n",
       "      <th>...</th>\n",
       "      <td>...</td>\n",
       "      <td>...</td>\n",
       "      <td>...</td>\n",
       "      <td>...</td>\n",
       "      <td>...</td>\n",
       "      <td>...</td>\n",
       "      <td>...</td>\n",
       "    </tr>\n",
       "    <tr>\n",
       "      <th>59</th>\n",
       "      <td>JFK</td>\n",
       "      <td>1:15 PM</td>\n",
       "      <td>BOS</td>\n",
       "      <td>2:31 PM</td>\n",
       "      <td>$264</td>\n",
       "      <td>JetBlue</td>\n",
       "      <td>2023-03-27 02:02:53.148042</td>\n",
       "    </tr>\n",
       "    <tr>\n",
       "      <th>60</th>\n",
       "      <td>JFK</td>\n",
       "      <td>2:15 PM</td>\n",
       "      <td>BOS</td>\n",
       "      <td>3:46 PM</td>\n",
       "      <td>$264</td>\n",
       "      <td>JetBlue</td>\n",
       "      <td>2023-03-27 02:02:53.152254</td>\n",
       "    </tr>\n",
       "    <tr>\n",
       "      <th>61</th>\n",
       "      <td>JFK</td>\n",
       "      <td>3:30 PM</td>\n",
       "      <td>BOS</td>\n",
       "      <td>4:58 PM</td>\n",
       "      <td>$324</td>\n",
       "      <td>JetBlue</td>\n",
       "      <td>2023-03-27 02:02:53.156647</td>\n",
       "    </tr>\n",
       "    <tr>\n",
       "      <th>62</th>\n",
       "      <td>JFK</td>\n",
       "      <td>10:30 AM</td>\n",
       "      <td>BOS</td>\n",
       "      <td>11:40 AM</td>\n",
       "      <td>$414</td>\n",
       "      <td>JetBlue</td>\n",
       "      <td>2023-03-27 02:02:53.160797</td>\n",
       "    </tr>\n",
       "    <tr>\n",
       "      <th>63</th>\n",
       "      <td>JFK</td>\n",
       "      <td>8:30 PM</td>\n",
       "      <td>BOS</td>\n",
       "      <td>9:56 PM</td>\n",
       "      <td>$414</td>\n",
       "      <td>JetBlue</td>\n",
       "      <td>2023-03-27 02:02:53.164940</td>\n",
       "    </tr>\n",
       "  </tbody>\n",
       "</table>\n",
       "<p>64 rows × 7 columns</p>\n",
       "</div>"
      ],
      "text/plain": [
       "   Source Departure Time Destination Arrival Time Price   Airline  \\\n",
       "0     LGA       10:15 AM         BOS     11:32 AM   $94   JetBlue   \n",
       "1     LGA       12:00 PM         BOS      1:25 PM   $94     Delta   \n",
       "2     EWR        4:59 PM         BOS      6:21 PM   $94    United   \n",
       "3     JFK        9:09 AM         BOS     10:43 AM  $104  American   \n",
       "4     EWR        6:00 AM         BOS      7:12 AM   $94   JetBlue   \n",
       "..    ...            ...         ...          ...   ...       ...   \n",
       "59    JFK        1:15 PM         BOS      2:31 PM  $264   JetBlue   \n",
       "60    JFK        2:15 PM         BOS      3:46 PM  $264   JetBlue   \n",
       "61    JFK        3:30 PM         BOS      4:58 PM  $324   JetBlue   \n",
       "62    JFK       10:30 AM         BOS     11:40 AM  $414   JetBlue   \n",
       "63    JFK        8:30 PM         BOS      9:56 PM  $414   JetBlue   \n",
       "\n",
       "                    Timestamp  \n",
       "0  2023-03-27 02:02:52.904271  \n",
       "1  2023-03-27 02:02:52.908389  \n",
       "2  2023-03-27 02:02:52.913373  \n",
       "3  2023-03-27 02:02:52.917187  \n",
       "4  2023-03-27 02:02:52.921508  \n",
       "..                        ...  \n",
       "59 2023-03-27 02:02:53.148042  \n",
       "60 2023-03-27 02:02:53.152254  \n",
       "61 2023-03-27 02:02:53.156647  \n",
       "62 2023-03-27 02:02:53.160797  \n",
       "63 2023-03-27 02:02:53.164940  \n",
       "\n",
       "[64 rows x 7 columns]"
      ]
     },
     "execution_count": 549,
     "metadata": {},
     "output_type": "execute_result"
    }
   ],
   "source": [
    "df"
   ]
  },
  {
   "cell_type": "code",
   "execution_count": null,
   "metadata": {},
   "outputs": [],
   "source": []
  }
 ],
 "metadata": {
  "kernelspec": {
   "display_name": "base",
   "language": "python",
   "name": "python3"
  },
  "language_info": {
   "codemirror_mode": {
    "name": "ipython",
    "version": 3
   },
   "file_extension": ".py",
   "mimetype": "text/x-python",
   "name": "python",
   "nbconvert_exporter": "python",
   "pygments_lexer": "ipython3",
   "version": "3.8.8"
  },
  "orig_nbformat": 4
 },
 "nbformat": 4,
 "nbformat_minor": 2
}
